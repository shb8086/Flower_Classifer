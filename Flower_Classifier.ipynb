{
  "nbformat": 4,
  "nbformat_minor": 0,
  "metadata": {
    "colab": {
      "name": "Flower_Classifier.ipynb",
      "provenance": [],
      "mount_file_id": "1WLSnIhvIu-kSSYPLfUxG_pZCfCOqQzwS",
      "authorship_tag": "ABX9TyPQayeK/SqxmD1brGL79Q56",
      "include_colab_link": true
    },
    "kernelspec": {
      "name": "python3",
      "display_name": "Python 3"
    }
  },
  "cells": [
    {
      "cell_type": "markdown",
      "metadata": {
        "id": "view-in-github",
        "colab_type": "text"
      },
      "source": [
        "<a href=\"https://colab.research.google.com/github/shb8086/Flower_Classifer/blob/main/Flower_Classifier.ipynb\" target=\"_parent\"><img src=\"https://colab.research.google.com/assets/colab-badge.svg\" alt=\"Open In Colab\"/></a>"
      ]
    },
    {
      "cell_type": "code",
      "metadata": {
        "id": "YKIxdTz2N0kJ"
      },
      "source": [
        "from google.colab import drive\n",
        "drive.mount('/content/gdrive')"
      ],
      "execution_count": null,
      "outputs": []
    },
    {
      "cell_type": "code",
      "metadata": {
        "id": "hdGvZnpKOnIf"
      },
      "source": [
        "import glob\n",
        "import cv2\n",
        "from skimage.transform import resize"
      ],
      "execution_count": 2,
      "outputs": []
    },
    {
      "cell_type": "code",
      "metadata": {
        "id": "yvYoOsvdOurj"
      },
      "source": [
        "folders=['daisy','dandelion','roses','sunflowers','tulips']\n",
        "x=[]\n",
        "y=[]\n",
        "\n",
        "for folder in folders:\n",
        "  path='/content/gdrive/My Drive/Colab Notebooks/Flower_Classifier/flower_photos/'+str(folder)+'/*.jpg'\n",
        "  files=glob.glob(path)\n",
        "\n",
        "  for myfile in files:\n",
        "    image=cv2.imread(myfile)\n",
        "    image=cv2.cvtColor(image,cv2.COLOR_BGR2RGB)\n",
        "    image=resize(image,(32,32,3))\n",
        "    x.append(image)\n",
        "    y.append(folder)\n",
        "print(y)"
      ],
      "execution_count": null,
      "outputs": []
    },
    {
      "cell_type": "code",
      "metadata": {
        "id": "ISmbYcszUIz2"
      },
      "source": [
        "from sklearn.model_selection import train_test_split\n",
        "x_train, x_test, y_train, y_test= train_test_split(x,y,test_size=0.2 ,random_state=48)\n",
        "\n",
        "import matplotlib.pyplot as plt\n",
        "img=plt.imshow(x_train[70])\n",
        "y_train[70]"
      ],
      "execution_count": null,
      "outputs": []
    },
    {
      "cell_type": "code",
      "metadata": {
        "id": "LfrwaB1qUesO"
      },
      "source": [
        "from sklearn.preprocessing import LabelEncoder\n",
        "y_train=LabelEncoder().fit_transform(y_train)\n",
        "y_test=LabelEncoder().fit_transform(y_test)\n",
        "print(y_train)"
      ],
      "execution_count": null,
      "outputs": []
    },
    {
      "cell_type": "code",
      "metadata": {
        "id": "bZghzmOyY1Nv"
      },
      "source": [
        "from keras.utils import to_categorical\n",
        "y_train_one_hit=to_categorical(y_train)\n",
        "y_test_one_hit=to_categorical(y_test)\n",
        "print(y_train_one_hit[0])"
      ],
      "execution_count": null,
      "outputs": []
    },
    {
      "cell_type": "code",
      "metadata": {
        "id": "rut_Cq-cf-0Z"
      },
      "source": [
        "import numpy as np\n",
        "x_train=np.array(x_train)/255\n",
        "x_test=np.array(x_test)/255"
      ],
      "execution_count": 7,
      "outputs": []
    },
    {
      "cell_type": "markdown",
      "metadata": {
        "id": "bFf5c7yIgQKm"
      },
      "source": [
        "Model"
      ]
    },
    {
      "cell_type": "code",
      "metadata": {
        "id": "wITlRZb6gSav"
      },
      "source": [
        "#run next 2 blocks or 3ed\n",
        "import tensorflow as tf\n",
        "from tensorflow import keras\n",
        "from keras.models import Sequential\n",
        "from keras.layers import Dense, Flatten, Conv2D, MaxPooling2D\n",
        "from tensorflow.keras import layers"
      ],
      "execution_count": null,
      "outputs": []
    },
    {
      "cell_type": "code",
      "metadata": {
        "id": "nWJ7rCOhgXJQ"
      },
      "source": [
        "#run the following blocks or...\n",
        "model = tf.keras.Sequential()\n",
        "model.add(layers.Conv2D(32, (5, 5), activation='relu', input_shape=(32,32,3)))\n",
        "model.add(layers.MaxPooling2D(pool_size=(2, 2)))\n",
        "model.add(layers.Conv2D(64, (5, 5), activation='relu'))\n",
        "model.add(layers.MaxPooling2D(pool_size=(2, 2)))\n",
        "model.add(layers.Flatten())\n",
        "model.add(layers.Dense(64, activation='relu'))\n",
        "model.add(layers.Dense(5,  activation='softmax'))"
      ],
      "execution_count": 9,
      "outputs": []
    },
    {
      "cell_type": "code",
      "metadata": {
        "id": "xH9YGfssgkd-"
      },
      "source": [
        "model.compile(loss='categorical_crossentropy', optimizer='adam',metrics=['accuracy'])"
      ],
      "execution_count": 10,
      "outputs": []
    },
    {
      "cell_type": "code",
      "metadata": {
        "id": "pxMV4eSmg_WU"
      },
      "source": [
        "hist=model.fit(x_train, y_train_one_hit, batch_size=25, epochs=1000, validation_split=0.3 )"
      ],
      "execution_count": null,
      "outputs": []
    },
    {
      "cell_type": "code",
      "metadata": {
        "id": "86rrwIo6km50"
      },
      "source": [
        "model.evaluate(x_test, y_test_one_hit)\n",
        "model.save(\"model.h5\")\n",
        "print(\"Saved model to disk\")"
      ],
      "execution_count": null,
      "outputs": []
    },
    {
      "cell_type": "code",
      "metadata": {
        "id": "BWP6EeX9khZK"
      },
      "source": [
        "#or Run this\n",
        "from keras.models import load_model\n",
        "model = tf.keras.models.load_model('/content/gdrive/My Drive/Colab Notebooks/Flower_Classifier/model.h5')\n",
        "model.summary()"
      ],
      "execution_count": null,
      "outputs": []
    },
    {
      "cell_type": "code",
      "metadata": {
        "id": "1RVWLYbQk09S",
        "outputId": "61357f1f-0a46-44e6-fb78-f680165bd50c",
        "colab": {
          "base_uri": "https://localhost:8080/",
          "height": 295
        }
      },
      "source": [
        "plt.plot(hist.history['accuracy'])\n",
        "plt.plot(hist.history['val_accuracy'])\n",
        "plt.title(\"Model Accuracy\")\n",
        "plt.xlabel('epoch')\n",
        "plt.ylabel('accuracy')\n",
        "plt.legend(['Train','Val'], loc='upper left')\n",
        "plt.show()"
      ],
      "execution_count": 53,
      "outputs": [
        {
          "output_type": "display_data",
          "data": {
            "image/png": "[encoded data removed]",
            "text/plain": [
              "<Figure size 432x288 with 1 Axes>"
            ]
          },
          "metadata": {
            "tags": [],
            "needs_background": "light"
          }
        }
      ]
    },
    {
      "cell_type": "code",
      "metadata": {
        "id": "PmvgIwF6lZ06",
        "outputId": "1d155687-0f40-44bf-b2b9-dc7c8f76dac3",
        "colab": {
          "base_uri": "https://localhost:8080/",
          "height": 295
        }
      },
      "source": [
        "plt.plot(hist.history['loss'])\n",
        "plt.plot(hist.history['val_loss'])\n",
        "plt.title(\"Model Loss\")\n",
        "plt.xlabel('epoch')\n",
        "plt.ylabel('Loss')\n",
        "plt.legend(['Train','Val'], loc='upper left')\n",
        "plt.show()"
      ],
      "execution_count": 20,
      "outputs": [
        {
          "output_type": "display_data",
          "data": {
            "image/png": "[encoded data removed]",
            "text/plain": [
              "<Figure size 432x288 with 1 Axes>"
            ]
          },
          "metadata": {
            "tags": [],
            "needs_background": "light"
          }
        }
      ]
    },
    {
      "cell_type": "markdown",
      "metadata": {
        "id": "MFzPm24vmvfe"
      },
      "source": [
        "Test"
      ]
    },
    {
      "cell_type": "code",
      "metadata": {
        "id": "TTo76Tfolj9Y"
      },
      "source": [
        "from google.colab import files\n",
        "uploaded = files.upload()"
      ],
      "execution_count": null,
      "outputs": []
    },
    {
      "cell_type": "code",
      "metadata": {
        "id": "CW4KzhYylxVA"
      },
      "source": [
        "new_image= plt.imread(\"/content/218630974_5646dafc63_m.jpg\")\n",
        "plt.imshow(new_image)"
      ],
      "execution_count": null,
      "outputs": []
    },
    {
      "cell_type": "code",
      "metadata": {
        "id": "ZTnLyswrowMZ"
      },
      "source": [
        "from skimage.transform import resize\n",
        "new_image_resized= resize(new_image, (32,32,3))#from skimage\n",
        "plt.imshow(new_image_resized)"
      ],
      "execution_count": null,
      "outputs": []
    },
    {
      "cell_type": "code",
      "metadata": {
        "id": "-fvAzgyqnHxq"
      },
      "source": [
        "pred=model.predict(np.array([new_image_resized,]))\n",
        "classes=['daisy','dandelion','roses','sunflowers','tulips']\n",
        "for i in range(len(pred[0])):\n",
        "  if pred[0][i]==max(pred[0]):\n",
        "    break\n",
        "print(classes[i])"
      ],
      "execution_count": null,
      "outputs": []
    }
  ]
}